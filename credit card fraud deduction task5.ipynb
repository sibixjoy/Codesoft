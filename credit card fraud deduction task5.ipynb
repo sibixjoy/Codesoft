{
 "cells": [
  {
   "cell_type": "markdown",
   "metadata": {},
   "source": [
    "# TASK 5 CREDIT CARD FRAUD DETECTION\n",
    "\n",
    "### AIM\n",
    "Build a machine learning model to identify fraudulent credit card\n",
    "transactions.\n",
    "\n",
    "Preprocess and normalize the transaction data, handle class imbalance issues, and split the dataset into training and testing sets.\n",
    "\n",
    "Train a classification algorithm, such as logistic regression or random forests, to classify transactions as fraudulent or genuine.\n",
    "\n",
    "Evaluate the model's performance using metrics like precision, recall,and F1-score, and consider techniques like oversampling or undersampling for improving results.\n"
   ]
  },
  {
   "cell_type": "markdown",
   "metadata": {},
   "source": [
    "## Import necessary libraries"
   ]
  },
  {
   "cell_type": "code",
   "execution_count": 1,
   "metadata": {
    "_cell_guid": "b1076dfc-b9ad-4769-8c92-a6c4dae69d19",
    "_uuid": "8f2839f25d086af736a60e9eeb907d3b93b6e0e5",
    "execution": {
     "iopub.execute_input": "2024-05-05T22:35:45.269449Z",
     "iopub.status.busy": "2024-05-05T22:35:45.268861Z",
     "iopub.status.idle": "2024-05-05T22:35:46.673672Z",
     "shell.execute_reply": "2024-05-05T22:35:46.671331Z",
     "shell.execute_reply.started": "2024-05-05T22:35:45.269404Z"
    }
   },
   "outputs": [],
   "source": [
    "# Import necessary libraries\n",
    "import numpy as np # For numerical operations\n",
    "import pandas as pd # For data manipulation and analysis\n",
    "import matplotlib.pyplot as plt # For data visualization\n",
    "import seaborn as sns # For enhanced data visualization\n",
    "from scipy.stats import zscore # For z-score calculation\n",
    "from sklearn.model_selection import train_test_split # For splitting data into training and testing sets\n",
    "from sklearn.preprocessing import StandardScaler # For standardizing numerical features\n",
    "from sklearn.discriminant_analysis import LinearDiscriminantAnalysis as LDA # For dimensionality reduction using LDA\n",
    "from sklearn.svm import SVC # For Support Vector Machine classification\n",
    "from sklearn.metrics import classification_report, confusion_matrix, roc_auc_score # For model evaluation\n",
    "from imblearn.over_sampling import SMOTE # For handling class imbalance"
   ]
  },
  {
   "cell_type": "code",
   "execution_count": 2,
   "metadata": {
    "execution": {
     "iopub.execute_input": "2024-05-05T22:35:46.709965Z",
     "iopub.status.busy": "2024-05-05T22:35:46.708397Z",
     "iopub.status.idle": "2024-05-05T22:35:50.079418Z",
     "shell.execute_reply": "2024-05-05T22:35:50.07809Z",
     "shell.execute_reply.started": "2024-05-05T22:35:46.70991Z"
    }
   },
   "outputs": [],
   "source": [
    "# Read the data\n",
    "data = pd.read_csv(\"creditcard.csv\")"
   ]
  },
  {
   "cell_type": "code",
   "execution_count": 3,
   "metadata": {
    "execution": {
     "iopub.execute_input": "2024-05-05T22:35:50.93282Z",
     "iopub.status.busy": "2024-05-05T22:35:50.931716Z",
     "iopub.status.idle": "2024-05-05T22:35:50.939301Z",
     "shell.execute_reply": "2024-05-05T22:35:50.937985Z",
     "shell.execute_reply.started": "2024-05-05T22:35:50.932767Z"
    }
   },
   "outputs": [
    {
     "name": "stdout",
     "output_type": "stream",
     "text": [
      "Number of columns: 31\n",
      "Number of rows: 284807\n"
     ]
    }
   ],
   "source": [
    "# Display basic information about the dataset\n",
    "print(\"Number of columns: {}\".format(data.shape[1]))\n",
    "print(\"Number of rows: {}\".format(data.shape[0]))"
   ]
  },
  {
   "cell_type": "code",
   "execution_count": 4,
   "metadata": {
    "execution": {
     "iopub.execute_input": "2024-05-05T22:35:51.898694Z",
     "iopub.status.busy": "2024-05-05T22:35:51.898265Z",
     "iopub.status.idle": "2024-05-05T22:35:51.933903Z",
     "shell.execute_reply": "2024-05-05T22:35:51.931299Z",
     "shell.execute_reply.started": "2024-05-05T22:35:51.898659Z"
    }
   },
   "outputs": [
    {
     "name": "stdout",
     "output_type": "stream",
     "text": [
      "\n",
      "Dataset Information:\n",
      "<class 'pandas.core.frame.DataFrame'>\n",
      "RangeIndex: 284807 entries, 0 to 284806\n",
      "Data columns (total 31 columns):\n",
      " #   Column  Non-Null Count   Dtype  \n",
      "---  ------  --------------   -----  \n",
      " 0   Time    284807 non-null  float64\n",
      " 1   V1      284807 non-null  float64\n",
      " 2   V2      284807 non-null  float64\n",
      " 3   V3      284807 non-null  float64\n",
      " 4   V4      284807 non-null  float64\n",
      " 5   V5      284807 non-null  float64\n",
      " 6   V6      284807 non-null  float64\n",
      " 7   V7      284807 non-null  float64\n",
      " 8   V8      284807 non-null  float64\n",
      " 9   V9      284807 non-null  float64\n",
      " 10  V10     284807 non-null  float64\n",
      " 11  V11     284807 non-null  float64\n",
      " 12  V12     284807 non-null  float64\n",
      " 13  V13     284807 non-null  float64\n",
      " 14  V14     284807 non-null  float64\n",
      " 15  V15     284807 non-null  float64\n",
      " 16  V16     284807 non-null  float64\n",
      " 17  V17     284807 non-null  float64\n",
      " 18  V18     284807 non-null  float64\n",
      " 19  V19     284807 non-null  float64\n",
      " 20  V20     284807 non-null  float64\n",
      " 21  V21     284807 non-null  float64\n",
      " 22  V22     284807 non-null  float64\n",
      " 23  V23     284807 non-null  float64\n",
      " 24  V24     284807 non-null  float64\n",
      " 25  V25     284807 non-null  float64\n",
      " 26  V26     284807 non-null  float64\n",
      " 27  V27     284807 non-null  float64\n",
      " 28  V28     284807 non-null  float64\n",
      " 29  Amount  284807 non-null  float64\n",
      " 30  Class   284807 non-null  int64  \n",
      "dtypes: float64(30), int64(1)\n",
      "memory usage: 67.4 MB\n"
     ]
    }
   ],
   "source": [
    "# Display dataset information\n",
    "print(\"\\nDataset Information:\")\n",
    "data.info()"
   ]
  },
  {
   "cell_type": "code",
   "execution_count": 5,
   "metadata": {
    "execution": {
     "iopub.execute_input": "2024-05-05T22:35:53.377317Z",
     "iopub.status.busy": "2024-05-05T22:35:53.376824Z",
     "iopub.status.idle": "2024-05-05T22:35:53.404582Z",
     "shell.execute_reply": "2024-05-05T22:35:53.402647Z",
     "shell.execute_reply.started": "2024-05-05T22:35:53.377279Z"
    }
   },
   "outputs": [
    {
     "name": "stdout",
     "output_type": "stream",
     "text": [
      "\n",
      "Missing Values Check:\n",
      "Time      0\n",
      "V1        0\n",
      "V2        0\n",
      "V3        0\n",
      "V4        0\n",
      "V5        0\n",
      "V6        0\n",
      "V7        0\n",
      "V8        0\n",
      "V9        0\n",
      "V10       0\n",
      "V11       0\n",
      "V12       0\n",
      "V13       0\n",
      "V14       0\n",
      "V15       0\n",
      "V16       0\n",
      "V17       0\n",
      "V18       0\n",
      "V19       0\n",
      "V20       0\n",
      "V21       0\n",
      "V22       0\n",
      "V23       0\n",
      "V24       0\n",
      "V25       0\n",
      "V26       0\n",
      "V27       0\n",
      "V28       0\n",
      "Amount    0\n",
      "Class     0\n",
      "dtype: int64\n"
     ]
    }
   ],
   "source": [
    "# Check for missing values\n",
    "print(\"\\nMissing Values Check:\")\n",
    "print(data.isnull().sum())"
   ]
  },
  {
   "cell_type": "markdown",
   "metadata": {},
   "source": [
    "> **The data has no null values**"
   ]
  },
  {
   "cell_type": "markdown",
   "metadata": {},
   "source": [
    "# Data preprocessing"
   ]
  },
  {
   "cell_type": "code",
   "execution_count": 6,
   "metadata": {
    "execution": {
     "iopub.execute_input": "2024-05-05T22:35:55.758314Z",
     "iopub.status.busy": "2024-05-05T22:35:55.757825Z",
     "iopub.status.idle": "2024-05-05T22:35:55.77289Z",
     "shell.execute_reply": "2024-05-05T22:35:55.77125Z",
     "shell.execute_reply.started": "2024-05-05T22:35:55.75828Z"
    }
   },
   "outputs": [],
   "source": [
    "# Standardize the 'Amount' column\n",
    "scaler = StandardScaler()\n",
    "data['Amount'] = scaler.fit_transform(pd.DataFrame(data['Amount']))"
   ]
  },
  {
   "cell_type": "code",
   "execution_count": 7,
   "metadata": {
    "execution": {
     "iopub.execute_input": "2024-05-05T22:35:56.612367Z",
     "iopub.status.busy": "2024-05-05T22:35:56.61183Z",
     "iopub.status.idle": "2024-05-05T22:35:56.659096Z",
     "shell.execute_reply": "2024-05-05T22:35:56.657451Z",
     "shell.execute_reply.started": "2024-05-05T22:35:56.612324Z"
    }
   },
   "outputs": [],
   "source": [
    "# Drop the 'Time' column\n",
    "data = data.drop(['Time'], axis=1)"
   ]
  },
  {
   "cell_type": "code",
   "execution_count": 8,
   "metadata": {
    "execution": {
     "iopub.execute_input": "2024-05-05T22:35:57.261243Z",
     "iopub.status.busy": "2024-05-05T22:35:57.260749Z",
     "iopub.status.idle": "2024-05-05T22:35:58.92942Z",
     "shell.execute_reply": "2024-05-05T22:35:58.928217Z",
     "shell.execute_reply.started": "2024-05-05T22:35:57.261206Z"
    }
   },
   "outputs": [
    {
     "name": "stdout",
     "output_type": "stream",
     "text": [
      "\n",
      "Checking for Duplicates:\n",
      "Duplicates Found!\n"
     ]
    }
   ],
   "source": [
    "# Check for duplicates\n",
    "print(\"\\nChecking for Duplicates:\")\n",
    "if data.duplicated().any():\n",
    "    print(\"Duplicates Found!\")\n",
    "    # Remove duplicates\n",
    "    data = data.drop_duplicates()\n",
    "else:\n",
    "    print(\"No Duplicates Found.\")"
   ]
  },
  {
   "cell_type": "code",
   "execution_count": 9,
   "metadata": {
    "execution": {
     "iopub.execute_input": "2024-05-05T22:35:58.931696Z",
     "iopub.status.busy": "2024-05-05T22:35:58.931325Z",
     "iopub.status.idle": "2024-05-05T22:35:58.940271Z",
     "shell.execute_reply": "2024-05-05T22:35:58.938672Z",
     "shell.execute_reply.started": "2024-05-05T22:35:58.931663Z"
    }
   },
   "outputs": [
    {
     "name": "stdout",
     "output_type": "stream",
     "text": [
      "\n",
      "Outliers in 'Amount' Column: 0\n"
     ]
    }
   ],
   "source": [
    "# Check for outliers in the 'Amount' column\n",
    "outliers = (data['Amount'] > 1000).sum()\n",
    "print(\"\\nOutliers in 'Amount' Column:\", outliers)"
   ]
  },
  {
   "cell_type": "markdown",
   "metadata": {},
   "source": [
    "> **There is no null values or outliers. Also we dropped the duplicated data so our data is clean now and ready for PCA**"
   ]
  },
  {
   "cell_type": "markdown",
   "metadata": {},
   "source": [
    "# Exploratory Data Analysis (EDA)"
   ]
  },
  {
   "cell_type": "code",
   "execution_count": 10,
   "metadata": {
    "execution": {
     "iopub.execute_input": "2024-05-05T22:36:01.458254Z",
     "iopub.status.busy": "2024-05-05T22:36:01.457799Z",
     "iopub.status.idle": "2024-05-05T22:36:01.473403Z",
     "shell.execute_reply": "2024-05-05T22:36:01.472074Z",
     "shell.execute_reply.started": "2024-05-05T22:36:01.458219Z"
    }
   },
   "outputs": [
    {
     "data": {
      "text/plain": [
       "0    275190\n",
       "1       473\n",
       "Name: Class, dtype: int64"
      ]
     },
     "execution_count": 10,
     "metadata": {},
     "output_type": "execute_result"
    }
   ],
   "source": [
    "# Count the number of data in each class: 1 and 0\n",
    "data['Class'].value_counts()"
   ]
  },
  {
   "cell_type": "code",
   "execution_count": 11,
   "metadata": {
    "execution": {
     "iopub.execute_input": "2024-05-05T22:36:03.71489Z",
     "iopub.status.busy": "2024-05-05T22:36:03.714169Z",
     "iopub.status.idle": "2024-05-05T22:36:04.299508Z",
     "shell.execute_reply": "2024-05-05T22:36:04.297557Z",
     "shell.execute_reply.started": "2024-05-05T22:36:03.714853Z"
    }
   },
   "outputs": [
    {
     "name": "stdout",
     "output_type": "stream",
     "text": [
      "\n",
      "Statistical Summary:\n",
      "                  V1             V2             V3             V4  \\\n",
      "count  275663.000000  275663.000000  275663.000000  275663.000000   \n",
      "mean       -0.037460      -0.002430       0.025520      -0.004359   \n",
      "std         1.952522       1.667260       1.507538       1.424323   \n",
      "min       -56.407510     -72.715728     -48.325589      -5.683171   \n",
      "25%        -0.941105      -0.614040      -0.843168      -0.862847   \n",
      "50%        -0.059659       0.070249       0.200736      -0.035098   \n",
      "75%         1.294471       0.819067       1.048461       0.753943   \n",
      "max         2.454930      22.057729       9.382558      16.875344   \n",
      "\n",
      "                  V5             V6             V7             V8  \\\n",
      "count  275663.000000  275663.000000  275663.000000  275663.000000   \n",
      "mean       -0.010660      -0.014206       0.008586      -0.005698   \n",
      "std         1.378117       1.313213       1.240348       1.191596   \n",
      "min      -113.743307     -26.160506     -43.557242     -73.216718   \n",
      "25%        -0.700192      -0.765861      -0.552047      -0.209618   \n",
      "50%        -0.060556      -0.270931       0.044848       0.022980   \n",
      "75%         0.604521       0.387704       0.583885       0.322319   \n",
      "max        34.801666      73.301626     120.589494      20.007208   \n",
      "\n",
      "                  V9            V10  ...            V21            V22  \\\n",
      "count  275663.000000  275663.000000  ...  275663.000000  275663.000000   \n",
      "mean       -0.012363       0.003114  ...       0.002579       0.005827   \n",
      "std         1.100108       1.087025  ...       0.733089       0.726378   \n",
      "min       -13.434066     -24.588262  ...     -34.830382     -10.933144   \n",
      "25%        -0.659904      -0.538968  ...      -0.225021      -0.532173   \n",
      "50%        -0.064724      -0.091752  ...      -0.025637       0.013397   \n",
      "75%         0.593098       0.470702  ...       0.189118       0.534272   \n",
      "max        15.594995      23.745136  ...      27.202839      10.503090   \n",
      "\n",
      "                 V23            V24            V25            V26  \\\n",
      "count  275663.000000  275663.000000  275663.000000  275663.000000   \n",
      "mean       -0.001941      -0.006868      -0.004812      -0.000240   \n",
      "std         0.631451       0.605550       0.524175       0.484139   \n",
      "min       -44.807735      -2.836627     -10.295397      -2.604551   \n",
      "25%        -0.165440      -0.361062      -0.323597      -0.328290   \n",
      "50%        -0.013655       0.037569       0.009909      -0.056667   \n",
      "75%         0.145482       0.432931       0.347151       0.244196   \n",
      "max        22.528412       4.584549       7.519589       3.517346   \n",
      "\n",
      "                 V27            V28         Amount          Class  \n",
      "count  275663.000000  275663.000000  275663.000000  275663.000000  \n",
      "mean        0.001921       0.000904       0.008911       0.001716  \n",
      "std         0.401271       0.332649       1.012371       0.041388  \n",
      "min       -22.565679     -15.430084      -0.353229       0.000000  \n",
      "25%        -0.071729      -0.052654      -0.328041       0.000000  \n",
      "50%         0.002615       0.011788      -0.258315       0.000000  \n",
      "75%         0.094730       0.081355      -0.033742       0.000000  \n",
      "max        31.612198      33.847808     102.362243       1.000000  \n",
      "\n",
      "[8 rows x 30 columns]\n"
     ]
    }
   ],
   "source": [
    "# Display statistical summary\n",
    "print(\"\\nStatistical Summary:\")\n",
    "print(data.describe())"
   ]
  },
  {
   "cell_type": "code",
   "execution_count": 12,
   "metadata": {},
   "outputs": [
    {
     "name": "stdout",
     "output_type": "stream",
     "text": [
      "0    275190\n",
      "1       473\n",
      "Name: Class, dtype: int64\n"
     ]
    },
    {
     "data": {
      "image/png": "[encoded data removed]",
      "text/plain": [
       "<Figure size 576x432 with 1 Axes>"
      ]
     },
     "metadata": {
      "needs_background": "light"
     },
     "output_type": "display_data"
    }
   ],
   "source": [
    "class_count = data[\"Class\"].value_counts()\n",
    "print(class_count)\n",
    "class_count_df = pd.DataFrame({'Class': class_count.index, 'values': class_count.values})\n",
    "\n",
    "plt.figure(figsize=(8, 6))\n",
    "plt.bar(class_count_df['Class'], class_count_df['values'], color='blue')\n",
    "plt.title('Credit Card Fraud Class - data unbalance (Not fraud = 0, Fraud = 1)')\n",
    "plt.xlabel('Class')\n",
    "plt.ylabel('Number of transactions')\n",
    "plt.xticks(class_count_df['Class'])\n",
    "for i in range(len(class_count_df)):\n",
    "    plt.text(class_count_df['Class'][i], class_count_df['values'][i], class_count_df['values'][i], ha='center', va='bottom')\n",
    "plt.show()"
   ]
  },
  {
   "cell_type": "code",
   "execution_count": 13,
   "metadata": {},
   "outputs": [
    {
     "data": {
      "image/png": "[encoded data removed]",
      "text/plain": [
       "<Figure size 864x720 with 2 Axes>"
      ]
     },
     "metadata": {
      "needs_background": "light"
     },
     "output_type": "display_data"
    }
   ],
   "source": [
    "# Compute the correlation matrix\n",
    "corr_matrix = data.corr()\n",
    "\n",
    "# Plot the heatmap\n",
    "plt.figure(figsize=(12, 10))\n",
    "sns.heatmap(corr_matrix, cmap='coolwarm', annot=False)\n",
    "plt.title('Correlation Matrix')\n",
    "plt.show()"
   ]
  },
  {
   "cell_type": "markdown",
   "metadata": {},
   "source": [
    "# Dimensionality Reduction using LDA"
   ]
  },
  {
   "cell_type": "markdown",
   "metadata": {},
   "source": [
    "**We will apply PCA using the following steps:**\n",
    "> 1. Separate features and target variable\n",
    "> 2. Split Data into Training and Testing Sets\n",
    "> 3. Standardize features\n",
    "> 4. Address Class Imbalance with SMOTE\n",
    "> 5. Perform LDA for dimensionality reduction"
   ]
  },
  {
   "cell_type": "markdown",
   "metadata": {},
   "source": [
    "##  Separate features and target variable"
   ]
  },
  {
   "cell_type": "code",
   "execution_count": 14,
   "metadata": {
    "execution": {
     "iopub.execute_input": "2024-05-05T22:36:07.703375Z",
     "iopub.status.busy": "2024-05-05T22:36:07.702911Z",
     "iopub.status.idle": "2024-05-05T22:36:07.746697Z",
     "shell.execute_reply": "2024-05-05T22:36:07.745598Z",
     "shell.execute_reply.started": "2024-05-05T22:36:07.703339Z"
    }
   },
   "outputs": [],
   "source": [
    "# Separate features and target variable\n",
    "X = data.drop('Class', axis=1)  # Features\n",
    "y = data['Class']  # Target variable"
   ]
  },
  {
   "cell_type": "markdown",
   "metadata": {},
   "source": [
    "## Split Data into Training and Testing Sets\n",
    "- We split the data into training and testing sets to evaluate the model's performance.\n",
    "- This helps in assessing how well the model generalizes to unseen data."
   ]
  },
  {
   "cell_type": "code",
   "execution_count": 15,
   "metadata": {
    "execution": {
     "iopub.execute_input": "2024-05-05T22:36:23.232538Z",
     "iopub.status.busy": "2024-05-05T22:36:23.232018Z",
     "iopub.status.idle": "2024-05-05T22:36:23.369316Z",
     "shell.execute_reply": "2024-05-05T22:36:23.368303Z",
     "shell.execute_reply.started": "2024-05-05T22:36:23.232499Z"
    }
   },
   "outputs": [],
   "source": [
    "# Split data into training and testing sets\n",
    "X_train, X_test, y_train, y_test = train_test_split(X, y, test_size=0.3, random_state=42)"
   ]
  },
  {
   "cell_type": "markdown",
   "metadata": {},
   "source": [
    "##  Standardize features\n",
    "* Standardization is essential for LDA as it ensures that all features have the same scale.\n",
    "* This prevents features with larger scales from dominating the principal components."
   ]
  },
  {
   "cell_type": "code",
   "execution_count": 16,
   "metadata": {
    "execution": {
     "iopub.execute_input": "2024-05-05T22:36:24.6303Z",
     "iopub.status.busy": "2024-05-05T22:36:24.629449Z",
     "iopub.status.idle": "2024-05-05T22:36:24.903249Z",
     "shell.execute_reply": "2024-05-05T22:36:24.901621Z",
     "shell.execute_reply.started": "2024-05-05T22:36:24.630253Z"
    }
   },
   "outputs": [],
   "source": [
    "# Standardize features\n",
    "scaler = StandardScaler()\n",
    "X_scaled = scaler.fit_transform(X)"
   ]
  },
  {
   "cell_type": "markdown",
   "metadata": {},
   "source": [
    "##  Address Class Imbalance with SMOTE\n",
    "- Class imbalance can negatively impact the performance of the model, especially for rare classes.\n",
    "- Synthetic Minority Over-sampling Technique (SMOTE) is used to balance the class distribution by generating synthetic samples for the minority class.\n",
    "- This ensures that the model is trained on a more balanced dataset."
   ]
  },
  {
   "cell_type": "code",
   "execution_count": 17,
   "metadata": {
    "execution": {
     "iopub.execute_input": "2024-05-05T22:37:28.617241Z",
     "iopub.status.busy": "2024-05-05T22:37:28.61553Z",
     "iopub.status.idle": "2024-05-05T22:37:29.196174Z",
     "shell.execute_reply": "2024-05-05T22:37:29.194871Z",
     "shell.execute_reply.started": "2024-05-05T22:37:28.617181Z"
    }
   },
   "outputs": [
    {
     "name": "stdout",
     "output_type": "stream",
     "text": [
      "\n",
      "Addressing Class Imbalance with SMOTE:\n",
      "Before SMOTE:  (192964, 29) (192964,)\n",
      "After SMOTE:  (385254, 29) (385254,)\n",
      "After SMOTE Label Distribution:  0    192627\n",
      "1    192627\n",
      "Name: Class, dtype: int64\n"
     ]
    }
   ],
   "source": [
    "# Apply SMOTE to address class imbalance\n",
    "print(\"\\nAddressing Class Imbalance with SMOTE:\")\n",
    "smote = SMOTE(random_state=0)\n",
    "X_train_over, y_train_over = smote.fit_resample(X_train, y_train)\n",
    "\n",
    "# Display information before and after SMOTE\n",
    "print(\"Before SMOTE: \", X_train.shape, y_train.shape)\n",
    "print(\"After SMOTE: \", X_train_over.shape, y_train_over.shape)\n",
    "print(\"After SMOTE Label Distribution: \", pd.Series(y_train_over).value_counts())"
   ]
  },
  {
   "cell_type": "code",
   "execution_count": 18,
   "metadata": {
    "execution": {
     "iopub.execute_input": "2024-05-05T22:38:25.269432Z",
     "iopub.status.busy": "2024-05-05T22:38:25.268947Z",
     "iopub.status.idle": "2024-05-05T22:38:25.750631Z",
     "shell.execute_reply": "2024-05-05T22:38:25.748849Z",
     "shell.execute_reply.started": "2024-05-05T22:38:25.269397Z"
    }
   },
   "outputs": [
    {
     "name": "stderr",
     "output_type": "stream",
     "text": [
      "C:\\ProgramData\\Anaconda3\\lib\\site-packages\\seaborn\\_decorators.py:36: FutureWarning: Pass the following variable as a keyword arg: x. From version 0.12, the only valid positional argument will be `data`, and passing other arguments without an explicit keyword will result in an error or misinterpretation.\n",
      "  warnings.warn(\n",
      "C:\\ProgramData\\Anaconda3\\lib\\site-packages\\seaborn\\_decorators.py:36: FutureWarning: Pass the following variable as a keyword arg: x. From version 0.12, the only valid positional argument will be `data`, and passing other arguments without an explicit keyword will result in an error or misinterpretation.\n",
      "  warnings.warn(\n"
     ]
    },
    {
     "data": {
      "image/png": "[encoded data removed]",
      "text/plain": [
       "<Figure size 864x432 with 2 Axes>"
      ]
     },
     "metadata": {
      "needs_background": "light"
     },
     "output_type": "display_data"
    }
   ],
   "source": [
    "# Visualize Class Distribution Before and After SMOTE\n",
    "plt.figure(figsize=(12, 6))\n",
    "plt.subplot(1, 2, 1)\n",
    "sns.countplot(y_train, palette='Set1')\n",
    "plt.title('Class Distribution Before SMOTE')\n",
    "plt.xlabel('Class')\n",
    "plt.ylabel('Count')\n",
    "\n",
    "plt.subplot(1, 2, 2)\n",
    "sns.countplot(y_train_over, palette='Set2')\n",
    "plt.title('Class Distribution After SMOTE')\n",
    "plt.xlabel('Class')\n",
    "plt.ylabel('Count')\n",
    "plt.show()"
   ]
  },
  {
   "cell_type": "markdown",
   "metadata": {},
   "source": [
    "## Perform LDA for dimensionality reduction"
   ]
  },
  {
   "cell_type": "code",
   "execution_count": 19,
   "metadata": {
    "execution": {
     "iopub.execute_input": "2024-05-05T22:38:29.90103Z",
     "iopub.status.busy": "2024-05-05T22:38:29.900128Z",
     "iopub.status.idle": "2024-05-05T22:38:31.292618Z",
     "shell.execute_reply": "2024-05-05T22:38:31.290878Z",
     "shell.execute_reply.started": "2024-05-05T22:38:29.90099Z"
    }
   },
   "outputs": [],
   "source": [
    "# Perform LDA for dimensionality reduction\n",
    "lda = LDA(n_components=1)\n",
    "X_train_lda = lda.fit_transform(X_train_over, y_train_over)\n",
    "X_test_lda = lda.transform(X_test)"
   ]
  },
  {
   "cell_type": "markdown",
   "metadata": {},
   "source": [
    "# SVM Modeling Training"
   ]
  },
  {
   "cell_type": "markdown",
   "metadata": {},
   "source": [
    "**In this step we will go through these steps:**\n",
    "> 1. Train SVM Model with Hyperparameter Tuning\n",
    "> 2. Make Predictions\n",
    "> 3. Evaluate Model Performance\n",
    "> 4. Calculate ROC AUC Score"
   ]
  },
  {
   "cell_type": "markdown",
   "metadata": {},
   "source": [
    "##  Train SVM Model with Hyperparameter Tuning\n",
    "* Support Vector Machine (SVM) is a powerful classification algorithm that works well for both linear and non-linear datasets.\n",
    "* Hyperparameters like kernel type, C (regularization parameter), and gamma influence the model's performance.\n",
    "* We use grid search or randomized search to find the best combination of hyperparameters.\n",
    "* For brevity, we'll demonstrate training with default hyperparameters."
   ]
  },
  {
   "cell_type": "code",
   "execution_count": null,
   "metadata": {
    "execution": {
     "iopub.execute_input": "2024-05-05T22:38:37.071891Z",
     "iopub.status.busy": "2024-05-05T22:38:37.071355Z",
     "iopub.status.idle": "2024-05-05T23:01:06.566476Z",
     "shell.execute_reply": "2024-05-05T23:01:06.564837Z",
     "shell.execute_reply.started": "2024-05-05T22:38:37.071845Z"
    }
   },
   "outputs": [],
   "source": [
    "# Train SVM Model with Hyperparameter Tuning\n",
    "svm_model = SVC(kernel='rbf', C=1, gamma='scale')\n",
    "svm_model.fit(X_train_over, y_train_over)"
   ]
  },
  {
   "cell_type": "markdown",
   "metadata": {},
   "source": [
    "##  Make Predictions"
   ]
  },
  {
   "cell_type": "code",
   "execution_count": null,
   "metadata": {
    "execution": {
     "iopub.execute_input": "2024-05-05T23:02:17.553905Z",
     "iopub.status.busy": "2024-05-05T23:02:17.55264Z",
     "iopub.status.idle": "2024-05-05T23:06:12.293295Z",
     "shell.execute_reply": "2024-05-05T23:06:12.291805Z",
     "shell.execute_reply.started": "2024-05-05T23:02:17.553856Z"
    }
   },
   "outputs": [],
   "source": [
    "# Make Predictions\n",
    "y_pred = svm_model.predict(X_test)"
   ]
  },
  {
   "cell_type": "markdown",
   "metadata": {},
   "source": [
    "## Evaluate Model Performance\n",
    "* Confusion matrix and classification report provide insights into the model's performance across different classes."
   ]
  },
  {
   "cell_type": "code",
   "execution_count": null,
   "metadata": {
    "execution": {
     "iopub.execute_input": "2024-05-05T23:06:12.295954Z",
     "iopub.status.busy": "2024-05-05T23:06:12.29528Z",
     "iopub.status.idle": "2024-05-05T23:06:12.463528Z",
     "shell.execute_reply": "2024-05-05T23:06:12.461602Z",
     "shell.execute_reply.started": "2024-05-05T23:06:12.295917Z"
    }
   },
   "outputs": [],
   "source": [
    "# Evaluate Model Performance\n",
    "print(\"Confusion Matrix:\")\n",
    "print(confusion_matrix(y_test, y_pred))\n",
    "\n",
    "print(\"\\nClassification Report:\")\n",
    "print(classification_report(y_test, y_pred))"
   ]
  },
  {
   "cell_type": "markdown",
   "metadata": {},
   "source": [
    "##  Calculate ROC AUC Score\n",
    "* ROC AUC (Receiver Operating Characteristic Area Under the Curve) score measures the model's ability to distinguish between classes.\n",
    "* A higher ROC AUC score indicates better performance."
   ]
  },
  {
   "cell_type": "code",
   "execution_count": null,
   "metadata": {
    "execution": {
     "iopub.execute_input": "2024-05-05T23:06:12.468113Z",
     "iopub.status.busy": "2024-05-05T23:06:12.46666Z",
     "iopub.status.idle": "2024-05-05T23:06:12.558262Z",
     "shell.execute_reply": "2024-05-05T23:06:12.557319Z",
     "shell.execute_reply.started": "2024-05-05T23:06:12.468043Z"
    }
   },
   "outputs": [],
   "source": [
    "# Calculate ROC AUC Score\n",
    "roc_auc = roc_auc_score(y_test, y_pred)\n",
    "print(\"\\nROC AUC Score:\", roc_auc)"
   ]
  }
 ],
 "metadata": {
  "kaggle": {
   "accelerator": "none",
   "dataSources": [
    {
     "datasetId": 310,
     "sourceId": 23498,
     "sourceType": "datasetVersion"
    }
   ],
   "dockerImageVersionId": 30698,
   "isGpuEnabled": false,
   "isInternetEnabled": false,
   "language": "python",
   "sourceType": "notebook"
  },
  "kernelspec": {
   "display_name": "Python 3 (ipykernel)",
   "language": "python",
   "name": "python3"
  },
  "language_info": {
   "codemirror_mode": {
    "name": "ipython",
    "version": 3
   },
   "file_extension": ".py",
   "mimetype": "text/x-python",
   "name": "python",
   "nbconvert_exporter": "python",
   "pygments_lexer": "ipython3",
   "version": "3.9.7"
  }
 },
 "nbformat": 4,
 "nbformat_minor": 4
}
